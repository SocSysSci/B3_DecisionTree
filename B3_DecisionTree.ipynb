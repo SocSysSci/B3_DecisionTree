{
  "nbformat": 4,
  "nbformat_minor": 0,
  "metadata": {
    "colab": {
      "provenance": []
    },
    "kernelspec": {
      "name": "python3",
      "display_name": "Python 3"
    }
  },
  "cells": [
    {
      "cell_type": "markdown",
      "metadata": {
        "id": "view-in-github",
        "colab_type": "text"
      },
      "source": [
        "<a href=\"https://colab.research.google.com/github/SocSysSci/B3_DecisionTree/blob/main/B3_DecisionTree.ipynb\" target=\"_parent\"><img src=\"https://colab.research.google.com/assets/colab-badge.svg\" alt=\"Open In Colab\"/></a>"
      ]
    },
    {
      "cell_type": "markdown",
      "source": [
        "## 1. データの読み込み"
      ],
      "metadata": {
        "id": "qmZ50Op3hblU"
      }
    },
    {
      "cell_type": "markdown",
      "source": [
        "### 1-1. データのアップロード\n",
        "データのサイズが小さい場合は files.upload() が利用できます。\n",
        "データのサイズが大きい場合はファイル領域にドラッグ＆ドロップでアップロードします。"
      ],
      "metadata": {
        "id": "rvq8UMc0hkwL"
      }
    },
    {
      "cell_type": "code",
      "metadata": {
        "id": "Go079wBui_km"
      },
      "source": [
        "from google.colab import files\n",
        "uploaded = files.upload()"
      ],
      "execution_count": null,
      "outputs": []
    },
    {
      "cell_type": "markdown",
      "source": [
        "### 1-2. データの読み込み"
      ],
      "metadata": {
        "id": "6_skST7Uh2yk"
      }
    },
    {
      "cell_type": "code",
      "metadata": {
        "id": "vz2r0QemjHe1"
      },
      "source": [
        "import pandas as pd\n",
        "from sklearn.tree import DecisionTreeClassifier"
      ],
      "execution_count": null,
      "outputs": []
    },
    {
      "cell_type": "markdown",
      "source": [
        "下のindex_col と header にはそれぞれ1列目（index_col）と1行目（header）にラベルが入っているかどうかを指定します。ラベルが入っている場合はラベルの入っている列・行の番号（1行目1列目が0，以下2行目2列目が1...）を，ラベルが入っていない場合は「None」を指定します。"
      ],
      "metadata": {
        "id": "QbDIMUml9low"
      }
    },
    {
      "cell_type": "code",
      "metadata": {
        "id": "2qoG7o-SjVvC"
      },
      "source": [
        "data = pd.read_csv(\"play_golf.csv\", index_col=None, header=0)"
      ],
      "execution_count": null,
      "outputs": []
    },
    {
      "cell_type": "code",
      "metadata": {
        "id": "z44UWig0jcaz"
      },
      "source": [
        "data.head()"
      ],
      "execution_count": null,
      "outputs": []
    },
    {
      "cell_type": "markdown",
      "source": [
        "### 1-3. 文字列データの数値データへの変換\n",
        "文字列データは今回利用する決定木では使えませんので，これを数値に変換します。"
      ],
      "metadata": {
        "id": "YpIhwmYSh8WQ"
      }
    },
    {
      "cell_type": "code",
      "metadata": {
        "id": "P4Pteymkjdsa"
      },
      "source": [
        "data['weather_val']   = data['weather'].map({'sunny':0, 'cloudy':1, 'rainy':2})\n",
        "data['wind_val']      = data['wind'].map({'strong':1, 'weak':0})\n",
        "data['play_golf_val'] = data['play_golf'].map({'yes':1, 'no':0})"
      ],
      "execution_count": null,
      "outputs": []
    },
    {
      "cell_type": "code",
      "metadata": {
        "id": "OwmJn7BIjqx7"
      },
      "source": [
        "data.head()"
      ],
      "execution_count": null,
      "outputs": []
    },
    {
      "cell_type": "markdown",
      "source": [
        "### 1-4. 学習用データの作成\n",
        "読み込んだデータから，学習用データを作成します。学習用データは入力（独立変数）と教師（正しい出力。目的変数の値）からなります。\n",
        "\n",
        "データの作成方法としては a) 使うデータを指定する方法と b) 使わないデータを指定する方法の2種類があります。どちらも最終的には同じ結果になりますが。使うデータが少ない場合は a) が，使うデータが多い場合は b) が良いと思います。"
      ],
      "metadata": {
        "id": "mdl_yrYqiJD5"
      }
    },
    {
      "cell_type": "markdown",
      "source": [
        "a) 使うデータを指定する方法"
      ],
      "metadata": {
        "id": "YFkfs0SG8lyQ"
      }
    },
    {
      "cell_type": "code",
      "metadata": {
        "id": "4EBMvoStjsFn"
      },
      "source": [
        "features = ['weather_val', 'temperature', 'humidity', 'wind_val'] # 使うデータのラベル\n",
        "X = data[features]\n",
        "Y = data['play_golf_val']"
      ],
      "execution_count": null,
      "outputs": []
    },
    {
      "cell_type": "markdown",
      "source": [
        "b) 使わないデータを指定する方法"
      ],
      "metadata": {
        "id": "vxDCFpp-9FUh"
      }
    },
    {
      "cell_type": "code",
      "source": [
        "unused = [\"weather\", \"wind\", \"play_golf\", \"play_golf_val\"] # 使わないデータのラベル\n",
        "X = data.drop(unused, axis=1)\n",
        "Y = data[\"play_golf_val\"]\n",
        "features = X.keys().tolist()"
      ],
      "metadata": {
        "id": "hXMc6n5EeiMB"
      },
      "execution_count": null,
      "outputs": []
    },
    {
      "cell_type": "markdown",
      "source": [
        "## 2. 決定木の学習"
      ],
      "metadata": {
        "id": "3E-0qKu6ie6E"
      }
    },
    {
      "cell_type": "markdown",
      "source": [
        "### 2-1. 決定木オブジェクトの作成"
      ],
      "metadata": {
        "id": "yBrzcxIGipt7"
      }
    },
    {
      "cell_type": "code",
      "metadata": {
        "id": "aPt1Q35AkEeD"
      },
      "source": [
        "clf = DecisionTreeClassifier()"
      ],
      "execution_count": null,
      "outputs": []
    },
    {
      "cell_type": "markdown",
      "source": [
        "### 2-2. 決定木の学習\n",
        "独立変数Xに対する目的変数Yを用いて決定木を学習します。"
      ],
      "metadata": {
        "id": "5ZS0keLKi8E4"
      }
    },
    {
      "cell_type": "code",
      "metadata": {
        "id": "L-IIefPMkHQF"
      },
      "source": [
        "clf.fit(X,Y)"
      ],
      "execution_count": null,
      "outputs": []
    },
    {
      "cell_type": "markdown",
      "source": [
        "## 3. 可視化"
      ],
      "metadata": {
        "id": "4SEFhK-2jG9R"
      }
    },
    {
      "cell_type": "markdown",
      "source": [
        "### 3-1. 日本語フォントのインストール"
      ],
      "metadata": {
        "id": "srYOv2Ug8ASO"
      }
    },
    {
      "cell_type": "code",
      "source": [
        "!apt install fonts-noto-cjk"
      ],
      "metadata": {
        "id": "_o_nuhoihWZW"
      },
      "execution_count": null,
      "outputs": []
    },
    {
      "cell_type": "markdown",
      "source": [
        "### 3-2. GraphVizを用いた可視化"
      ],
      "metadata": {
        "id": "99EB7Y_C8H-f"
      }
    },
    {
      "cell_type": "code",
      "metadata": {
        "id": "W1eHTqn7knP5"
      },
      "source": [
        "from sklearn import tree\n",
        "import pydotplus.graphviz as gv\n",
        "from IPython.display import Image"
      ],
      "execution_count": null,
      "outputs": []
    },
    {
      "cell_type": "code",
      "metadata": {
        "id": "2D-F9eZxkzND"
      },
      "source": [
        "tree.export_graphviz(clf, out_file=\"play_golf.dot\",\n",
        "                     feature_names = features,\n",
        "                     class_names=[\"no\", \"yes\"])"
      ],
      "execution_count": null,
      "outputs": []
    },
    {
      "cell_type": "code",
      "metadata": {
        "id": "zSe5U23Fk-kk"
      },
      "source": [
        "graph = gv.graph_from_dot_file(\"play_golf.dot\")\n",
        "Image(graph.create_png())"
      ],
      "execution_count": null,
      "outputs": []
    },
    {
      "cell_type": "code",
      "metadata": {
        "id": "vZB8_ZiqlH8s"
      },
      "source": [
        "clf.predict(X)"
      ],
      "execution_count": null,
      "outputs": []
    },
    {
      "cell_type": "code",
      "metadata": {
        "id": "9IDPfiETlizc"
      },
      "source": [
        "clf.predict([[1,19,40,1]])"
      ],
      "execution_count": null,
      "outputs": []
    }
  ]
}
