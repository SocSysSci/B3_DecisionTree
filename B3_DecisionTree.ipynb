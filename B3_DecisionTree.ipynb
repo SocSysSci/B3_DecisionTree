{
  "nbformat": 4,
  "nbformat_minor": 0,
  "metadata": {
    "colab": {
      "provenance": []
    },
    "kernelspec": {
      "name": "python3",
      "display_name": "Python 3"
    }
  },
  "cells": [
    {
      "cell_type": "code",
      "metadata": {
        "id": "Go079wBui_km"
      },
      "source": [
        "from google.colab import files\n",
        "uploaded = files.upload()"
      ],
      "execution_count": null,
      "outputs": []
    },
    {
      "cell_type": "code",
      "metadata": {
        "id": "vz2r0QemjHe1"
      },
      "source": [
        "import pandas as pd\n",
        "from sklearn.tree import DecisionTreeClassifier"
      ],
      "execution_count": null,
      "outputs": []
    },
    {
      "cell_type": "code",
      "metadata": {
        "id": "2qoG7o-SjVvC"
      },
      "source": [
        "data = pd.read_csv(\"play_golf.csv\", index_col=None, header=0)"
      ],
      "execution_count": null,
      "outputs": []
    },
    {
      "cell_type": "code",
      "metadata": {
        "id": "z44UWig0jcaz"
      },
      "source": [
        "data.head()"
      ],
      "execution_count": null,
      "outputs": []
    },
    {
      "cell_type": "code",
      "metadata": {
        "id": "P4Pteymkjdsa"
      },
      "source": [
        "data['weather_val']   = data['weather'].map({'sunny':0, 'cloudy':1, 'rainy':2})\n",
        "data['wind_val']      = data['wind'].map({'strong':1, 'weak':0})\n",
        "data['play_golf_val'] = data['play_golf'].map({'yes':1, 'no':0})"
      ],
      "execution_count": null,
      "outputs": []
    },
    {
      "cell_type": "code",
      "metadata": {
        "id": "OwmJn7BIjqx7"
      },
      "source": [
        "data.head()"
      ],
      "execution_count": null,
      "outputs": []
    },
    {
      "cell_type": "code",
      "metadata": {
        "id": "4EBMvoStjsFn"
      },
      "source": [
        "features = ['weather_val', 'temperature', 'humidity', 'wind_val']\n",
        "X = data[features]\n",
        "Y = data['play_golf_val']"
      ],
      "execution_count": null,
      "outputs": []
    },
    {
      "cell_type": "code",
      "metadata": {
        "id": "aPt1Q35AkEeD"
      },
      "source": [
        "clf = DecisionTreeClassifier()"
      ],
      "execution_count": null,
      "outputs": []
    },
    {
      "cell_type": "code",
      "metadata": {
        "id": "L-IIefPMkHQF"
      },
      "source": [
        "clf.fit(X,Y)"
      ],
      "execution_count": null,
      "outputs": []
    },
    {
      "cell_type": "code",
      "metadata": {
        "id": "W1eHTqn7knP5"
      },
      "source": [
        "from sklearn import tree\n",
        "import pydotplus.graphviz as gv\n",
        "from IPython.display import Image"
      ],
      "execution_count": null,
      "outputs": []
    },
    {
      "cell_type": "code",
      "metadata": {
        "id": "2D-F9eZxkzND"
      },
      "source": [
        "tree.export_graphviz(clf, out_file=\"play_golf.dot\",\n",
        "                     feature_names = features,\n",
        "                     class_names = ['no', 'yes'])"
      ],
      "execution_count": null,
      "outputs": []
    },
    {
      "cell_type": "code",
      "metadata": {
        "id": "zSe5U23Fk-kk"
      },
      "source": [
        "graph = gv.graph_from_dot_file(\"play_golf.dot\")\n",
        "Image(graph.create_png())"
      ],
      "execution_count": null,
      "outputs": []
    },
    {
      "cell_type": "code",
      "metadata": {
        "id": "vZB8_ZiqlH8s"
      },
      "source": [
        "clf.predict(X)"
      ],
      "execution_count": null,
      "outputs": []
    },
    {
      "cell_type": "code",
      "metadata": {
        "id": "9IDPfiETlizc"
      },
      "source": [
        "clf.predict([[1,19,40,1]])"
      ],
      "execution_count": null,
      "outputs": []
    }
  ]
}